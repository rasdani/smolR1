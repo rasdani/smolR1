{
 "cells": [
  {
   "cell_type": "code",
   "execution_count": 3,
   "metadata": {},
   "outputs": [],
   "source": [
    "import re\n",
    "\n",
    "from transformers import AutoTokenizer\n",
    "import datasets"
   ]
  },
  {
   "cell_type": "code",
   "execution_count": 4,
   "metadata": {},
   "outputs": [],
   "source": [
    "model_name = \"Qwen/Qwen2.5-0.5B\"\n",
    "tokenizer = AutoTokenizer.from_pretrained(model_name)\n",
    "ds = datasets.load_dataset(\"hkust-nlp/SimpleRL-Zoo-Data\", \n",
    "                      data_files=\"simplelr_qwen_level1to4/train.parquet\",\n",
    "                      split=\"train\")"
   ]
  },
  {
   "cell_type": "code",
   "execution_count": 5,
   "metadata": {},
   "outputs": [],
   "source": [
    "def extract_user_content(content):\n",
    "    pattern = r'<\\|im_start\\|>user\\n(.*?)<\\|im_end\\|>'\n",
    "    match = re.search(pattern, content, re.DOTALL)\n",
    "    \n",
    "    if match:\n",
    "        return match.group(1).strip()\n",
    "    return None\n",
    "\n",
    "def map_func(example):\n",
    "    content = extract_user_content(example[\"prompt\"][0][\"content\"])\n",
    "    example[\"prompt\"][0][\"content\"] = content\n",
    "    return example\n",
    "\n",
    "ds_up = ds.map(map_func, num_proc=16)\n",
    "ds_up = ds_up.select_columns([\"prompt\", \"gt_answer\"]).rename_column(\"gt_answer\", \"ground_truth\")"
   ]
  },
  {
   "cell_type": "code",
   "execution_count": 6,
   "metadata": {},
   "outputs": [
    {
     "data": {
      "text/plain": [
       "{'prompt': [{'content': 'Find the remainder when $$33818^2 + 33819^2 + 33820^2 + 33821^2 + 33822^2$$is divided by 17.\\nPlease reason step by step, and put your final answer within \\\\boxed{{}}.',\n",
       "   'role': 'user'}],\n",
       " 'ground_truth': '0'}"
      ]
     },
     "execution_count": 6,
     "metadata": {},
     "output_type": "execute_result"
    }
   ],
   "source": [
    "ds_up[0]"
   ]
  },
  {
   "cell_type": "code",
   "execution_count": 7,
   "metadata": {},
   "outputs": [],
   "source": [
    "# ds_up.push_to_hub(\"rasdani/simplerl_qwen_level1to4\")"
   ]
  },
  {
   "cell_type": "code",
   "execution_count": 9,
   "metadata": {},
   "outputs": [
    {
     "name": "stderr",
     "output_type": "stream",
     "text": [
      "Map (num_proc=16): 100%|██████████| 8139/8139 [00:00<00:00, 32270.16 examples/s]\n"
     ]
    }
   ],
   "source": [
    "# count tokens in content\n",
    "def count_tokens(example):\n",
    "    example[\"token_count\"] = len(tokenizer.encode(example[\"prompt\"][0][\"content\"]))\n",
    "    return example\n",
    "\n",
    "ds_up = ds_up.map(count_tokens, num_proc=16)\n"
   ]
  },
  {
   "cell_type": "code",
   "execution_count": 10,
   "metadata": {},
   "outputs": [
    {
     "data": {
      "text/plain": [
       "count    8139.000000\n",
       "mean       80.058607\n",
       "std        75.046709\n",
       "min        24.000000\n",
       "25%        46.000000\n",
       "50%        59.000000\n",
       "75%        82.000000\n",
       "max      1061.000000\n",
       "Name: token_count, dtype: float64"
      ]
     },
     "execution_count": 10,
     "metadata": {},
     "output_type": "execute_result"
    }
   ],
   "source": [
    "df = ds_up.to_pandas()\n",
    "df[\"token_count\"].describe()"
   ]
  },
  {
   "cell_type": "code",
   "execution_count": 11,
   "metadata": {},
   "outputs": [
    {
     "data": {
      "text/plain": [
       "<Axes: >"
      ]
     },
     "execution_count": 11,
     "metadata": {},
     "output_type": "execute_result"
    },
    {
     "data": {
      "image/png": "[encoded data removed]",
      "text/plain": [
       "<Figure size 640x480 with 1 Axes>"
      ]
     },
     "metadata": {},
     "output_type": "display_data"
    }
   ],
   "source": [
    "df[\"token_count\"].hist(bins=100)"
   ]
  },
  {
   "cell_type": "code",
   "execution_count": null,
   "metadata": {},
   "outputs": [],
   "source": []
  }
 ],
 "metadata": {
  "kernelspec": {
   "display_name": "base",
   "language": "python",
   "name": "python3"
  },
  "language_info": {
   "codemirror_mode": {
    "name": "ipython",
    "version": 3
   },
   "file_extension": ".py",
   "mimetype": "text/x-python",
   "name": "python",
   "nbconvert_exporter": "python",
   "pygments_lexer": "ipython3",
   "version": "3.10.14"
  }
 },
 "nbformat": 4,
 "nbformat_minor": 2
}
